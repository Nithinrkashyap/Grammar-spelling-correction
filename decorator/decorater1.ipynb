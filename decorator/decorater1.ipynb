{
 "cells": [
  {
   "cell_type": "code",
   "execution_count": 4,
   "metadata": {},
   "outputs": [
    {
     "name": "stdout",
     "output_type": "stream",
     "text": [
      "1\n",
      "example_function ran in 5.00494909286499 time\n"
     ]
    }
   ],
   "source": [
    "import time\n",
    "#* defining the decorator\n",
    "def timer(func):\n",
    "    print(1)\n",
    "    def wrapper(*args, **kwargs):\n",
    "        start = time.time()\n",
    "        result = func(*args, **kwargs)\n",
    "        end = time.time()\n",
    "        print(f\"{func.__name__} ran in {end-start} time\")\n",
    "        return result\n",
    "    return wrapper\n",
    "\n",
    "   \n",
    "   \n",
    "@timer    \n",
    "def example_function(n):\n",
    "    time.sleep(n)\n",
    "\n",
    "#when you call it will not execute it executes via timer decorater\n",
    "#~ example_function as argument in timer function\n",
    "example_function(5)    \n",
    "#& timer(example_function(5)) is called       \n",
    "    "
   ]
  },
  {
   "cell_type": "markdown",
   "metadata": {},
   "source": [
    "function inside function"
   ]
  },
  {
   "cell_type": "code",
   "execution_count": 5,
   "metadata": {},
   "outputs": [
    {
     "name": "stdout",
     "output_type": "stream",
     "text": [
      "12\n"
     ]
    }
   ],
   "source": [
    "def f1():\n",
    "    x=12\n",
    "    def f2():\n",
    "        print(x)\n",
    "    return f2\n",
    "res=f1()\n",
    "res()\n"
   ]
  },
  {
   "cell_type": "code",
   "execution_count": 5,
   "metadata": {},
   "outputs": [
    {
     "name": "stdout",
     "output_type": "stream",
     "text": [
      "calling: hello with args  and kwargs \n",
      "hello\n",
      "calling: greet with args chai and kwargs greeting=hanji \n",
      "hanji , chai\n"
     ]
    }
   ],
   "source": [
    "#! decorater2\n",
    "def debug(func):\n",
    "    def wrapper(*args, **kwargs):\n",
    "        args_value = ', '.join(str(arg) for arg in args)\n",
    "        kwargs_value = ', '.join(f\"{k}={v}\" for k, v in kwargs.\n",
    "        items())\n",
    "        print(f\"calling: {func.__name__} with args {args_value} and kwargs {kwargs_value}\")\n",
    "        return func(*args, **kwargs)\n",
    "    \n",
    "    return wrapper\n",
    "\n",
    "@debug\n",
    "def hello():\n",
    "    print(\"hello\")\n",
    "\n",
    "@debug\n",
    "def greet(name, greeting=\"Hello\"):\n",
    "    print(f\"{greeting}, {name}\")\n",
    "\n",
    "hello()\n",
    "#* debug(greet(\"chai\", greeting=\"hanji \") ) is called and wrapper function defn is returned\n",
    "greet(\"chai\", greeting=\"hanji \")   "
   ]
  }
 ],
 "metadata": {
  "kernelspec": {
   "display_name": "base",
   "language": "python",
   "name": "python3"
  },
  "language_info": {
   "codemirror_mode": {
    "name": "ipython",
    "version": 3
   },
   "file_extension": ".py",
   "mimetype": "text/x-python",
   "name": "python",
   "nbconvert_exporter": "python",
   "pygments_lexer": "ipython3",
   "version": "3.11.4"
  }
 },
 "nbformat": 4,
 "nbformat_minor": 2
}
