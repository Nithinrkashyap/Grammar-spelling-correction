{
 "cells": [
  {
   "cell_type": "code",
   "execution_count": 5,
   "metadata": {},
   "outputs": [],
   "source": [
    "from flask import Flask,redirect,render_template\n",
    "import threading"
   ]
  },
  {
   "cell_type": "markdown",
   "metadata": {},
   "source": [
    "creating app"
   ]
  },
  {
   "cell_type": "markdown",
   "metadata": {},
   "source": [
    "When you pass __name__ to the Flask class, it helps Flask to determine the root path for the application. This is important for locating resources like templates and static files."
   ]
  },
  {
   "cell_type": "code",
   "execution_count": 6,
   "metadata": {},
   "outputs": [],
   "source": [
    "app=Flask(__name__)"
   ]
  },
  {
   "cell_type": "markdown",
   "metadata": {},
   "source": [
    "routes"
   ]
  },
  {
   "cell_type": "code",
   "execution_count": 7,
   "metadata": {},
   "outputs": [],
   "source": [
    "#* decorater through (via)\n",
    "@app.route('/')\n",
    "def index():\n",
    "    return render_template('index.html')\n"
   ]
  },
  {
   "cell_type": "markdown",
   "metadata": {},
   "source": [
    "python main"
   ]
  },
  {
   "cell_type": "markdown",
   "metadata": {},
   "source": [
    "if __name__ ==\"__main__ in \n",
    "Running a Flask server in the main thread would block the execution of further cells, making the notebook unresponsive."
   ]
  },
  {
   "cell_type": "markdown",
   "metadata": {},
   "source": [
    "threading"
   ]
  },
  {
   "cell_type": "markdown",
   "metadata": {},
   "source": [
    "By using threading, the Flask server runs in a separate thread, allowing the notebook to remain interactive and responsive to other cell executions."
   ]
  },
  {
   "cell_type": "code",
   "execution_count": 8,
   "metadata": {},
   "outputs": [],
   "source": [
    "# if __name__ ==\"__main__\":\n",
    "#     app.run(debug=True);\n",
    "\n",
    "#*app.run(debug=True) starts the Flask development server with debugging enabled. The debug=True option enables the debugger, which provides useful error messages and automatically reloads the server when code changes are detected.\n",
    "\n",
    "def run_app():\n",
    "    app.run(debug=True,port=5000)\n",
    "\n",
    "# #& creates a new thread \n",
    "# #* target=run_app: The target parameter specifies the function that the thread should execute when it starts. Here, it is set to run_app, which is a function defined to run the Flask server.\n",
    "thread = threading.Thread(target=run_app)\n",
    "thread.start()    \n",
    "    "
   ]
  }
 ],
 "metadata": {
  "kernelspec": {
   "display_name": "base",
   "language": "python",
   "name": "python3"
  },
  "language_info": {
   "codemirror_mode": {
    "name": "ipython",
    "version": 3
   },
   "file_extension": ".py",
   "mimetype": "text/x-python",
   "name": "python",
   "nbconvert_exporter": "python",
   "pygments_lexer": "ipython3",
   "version": "3.11.1"
  }
 },
 "nbformat": 4,
 "nbformat_minor": 2
}
