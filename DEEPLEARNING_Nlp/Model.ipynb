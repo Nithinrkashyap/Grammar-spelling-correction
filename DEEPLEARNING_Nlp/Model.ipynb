{
 "cells": [
  {
   "cell_type": "code",
   "execution_count": 37,
   "metadata": {},
   "outputs": [
    {
     "name": "stdout",
     "output_type": "stream",
     "text": [
      "Sentiment(polarity=0.0, subjectivity=0.0)\n",
      "issue\n"
     ]
    }
   ],
   "source": [
    "from textblob import TextBlob\n",
    "\n",
    "text = \"I love this product! It's amazing.\"\n",
    "text=\"Ramayanaaaaaa is an epic\"\n",
    "text= \"Hello world. I like mashine learning. appple. bananana\"\n",
    "words = text.split()\n",
    "blob = TextBlob(text)\n",
    "sentiment = blob.sentiment\n",
    "\n",
    "print(sentiment)  # Output: Sentiment(polarity=0.65, subjectivity=0.675)\n",
    "words\n",
    "corrected_words = []\n",
    "for word in words:\n",
    "    corrected_word = str(TextBlob(word).correct())\n",
    "    corrected_words.append(corrected_word)\n",
    "corrected_words    \n",
    "blob\n",
    "words\n",
    "\n",
    "corrected_word=  TextBlob(\"issss\").correct()\n",
    "print(corrected_word)"
   ]
  },
  {
   "cell_type": "code",
   "execution_count": 16,
   "metadata": {},
   "outputs": [],
   "source": [
    "# from gingerit.gingerit import GingerIt\n",
    "\n",
    "# # Create a GingerIt object\n",
    "# parser = GingerIt()\n",
    "\n",
    "# # Text with grammatical errors\n",
    "# text = \"He can runing very fast.\"\n",
    "\n",
    "# # Parse and correct the text\n",
    "# parser_text = parser.parse(text)\n",
    "\n",
    "\n",
    "# # Retrieve the corrected text\n",
    "# corrected_text = parsed_text['result']\n",
    "\n",
    "# print(corrected_text)\n",
    "# # Output: \"He can run very fast.\"\n",
    "# parsed_text\n"
   ]
  },
  {
   "cell_type": "code",
   "execution_count": 33,
   "metadata": {},
   "outputs": [
    {
     "name": "stdout",
     "output_type": "stream",
     "text": [
      "He can run very fast.\n"
     ]
    },
    {
     "data": {
      "text/plain": [
       "[Match({'ruleId': 'MD_BASEFORM', 'message': 'Modal verbs like ‘can’ or ‘will’ require the following verb to be in its base form.', 'replacements': ['run', 'be running'], 'offsetInContext': 7, 'context': 'He can running very fast.', 'offset': 7, 'errorLength': 7, 'category': 'GRAMMAR', 'ruleIssueType': 'grammar', 'sentence': 'He can running very fast.'})]"
      ]
     },
     "execution_count": 33,
     "metadata": {},
     "output_type": "execute_result"
    }
   ],
   "source": [
    "import spacy\n",
    "import language_tool_python\n",
    "\n",
    "nlp = spacy.load(\"en_core_web_sm\")\n",
    "tool = language_tool_python.LanguageTool('en-US')\n",
    "\n",
    "text = \"He can running very fast.\"\n",
    "doc = nlp(text)\n",
    "matches = tool.check(text)\n",
    "corrected_text = language_tool_python.utils.correct(text, matches)\n",
    "print(corrected_text)  # Output: \"He can run very fast.\"\n",
    "matches\n",
    "\n",
    "\n",
    "\n"
   ]
  },
  {
   "cell_type": "code",
   "execution_count": 38,
   "metadata": {},
   "outputs": [
    {
     "name": "stdout",
     "output_type": "stream",
     "text": [
      "matches []\n",
      "Incorrect words: []\n"
     ]
    }
   ],
   "source": [
    "import language_tool_python\n",
    "\n",
    "def extract_grammar_errors(text):\n",
    "    # Initialize LanguageTool\n",
    "    tool = language_tool_python.LanguageTool('en-US')\n",
    "    \n",
    "    # Check for grammar errors in the text\n",
    "    matches = tool.check(text)\n",
    "    print(\"matches\",matches)\n",
    "    # Extract the incorrect words based on matches\n",
    "    incorrect_words = []\n",
    "    matches.sort(key=lambda x: x.offset, reverse=True)\n",
    "    for match in matches:\n",
    "        # Find the start and end positions of the error\n",
    "        start = match.offset\n",
    "        end = match.offset + match.errorLength\n",
    "        # Extract the incorrect word from the text\n",
    "        incorrect_word = text[start:end]\n",
    "        incorrect_words.append(incorrect_word)\n",
    "    \n",
    "    return incorrect_words\n",
    "\n",
    "if __name__ == \"__main__\":\n",
    "    text =\"I love you\"   \n",
    "    errors = extract_grammar_errors(text)\n",
    "    print(\"Incorrect words:\", errors)\n",
    "    \n"
   ]
  }
 ],
 "metadata": {
  "kernelspec": {
   "display_name": "base",
   "language": "python",
   "name": "python3"
  },
  "language_info": {
   "codemirror_mode": {
    "name": "ipython",
    "version": 3
   },
   "file_extension": ".py",
   "mimetype": "text/x-python",
   "name": "python",
   "nbconvert_exporter": "python",
   "pygments_lexer": "ipython3",
   "version": "3.11.4"
  }
 },
 "nbformat": 4,
 "nbformat_minor": 2
}
